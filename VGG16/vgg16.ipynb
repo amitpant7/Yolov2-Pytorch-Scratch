{
 "cells": [
  {
   "cell_type": "code",
   "execution_count": 3,
   "metadata": {},
   "outputs": [],
   "source": [
    "import torch\n",
    "import torch.nn as nn \n",
    "import torch.nn.functional as F"
   ]
  },
  {
   "cell_type": "code",
   "execution_count": 24,
   "metadata": {},
   "outputs": [],
   "source": [
    "# A better approch will be to create entire list for all the layers\n",
    "KERNEL = 3\n",
    "STRIDE = 2\n",
    "CHANNEL = [3,64, 64, 128, 128, 256, 256, 512, 512, 512, 512, 512, 512]\n",
    "FC = [512*7*7, 4096, 4096 ]\n",
    "POOL_POS = [2,4,6,9,12]  #after 2nd layer..."
   ]
  },
  {
   "cell_type": "code",
   "execution_count": 33,
   "metadata": {},
   "outputs": [],
   "source": [
    "class VGG16(nn.Module):\n",
    "    \n",
    "    def __init__(self, num_of_classes = 1000, CHANNEL = CHANNEL , FC = FC, KERNEL = KERNEL, STRIDE = STRIDE, POOL_POS = POOL_POS ):\n",
    "        super().__init__()\n",
    "        \n",
    "        self.layers = nn.ModuleList()\n",
    "        self.fc = nn.ModuleList()\n",
    "        self.flatten = nn.Flatten()\n",
    "        self.classifier = nn.Linear(4096, num_of_classes)\n",
    "        \n",
    "        for i in range(1, len(CHANNEL)):\n",
    "            # conv 2d layers\n",
    "            self.layers.append(nn.Conv2d(in_channels=CHANNEL[i-1] , out_channels=CHANNEL[i], kernel_size= KERNEL, padding= 'same'))\n",
    "            \n",
    "            #activation layer\n",
    "            self.layers.append(nn.ReLU(inplace = True))\n",
    "            \n",
    "            # Max pool\n",
    "            if i in POOL_POS  :\n",
    "                self.layers.append(nn.MaxPool2d(kernel_size= 2, stride = STRIDE))\n",
    "         \n",
    "        #Fully connected Layers              \n",
    "        for i in range(len(FC)-1):\n",
    "            self.fc.append(nn.Linear(FC[i], FC[i+1]))\n",
    "            nn.ReLU()\n",
    "        \n",
    "    \n",
    "    def forward(self, x):\n",
    "        for layer in self.layers:\n",
    "            x = layer(x)\n",
    "        \n",
    "        x = self.flatten(x)\n",
    "    \n",
    "        for layer in self.fc:\n",
    "            x = layer(x)\n",
    "        \n",
    "        #classifier call\n",
    "        x = self.classifier(x)\n",
    "        x = F.softmax(x)\n",
    "        return x         "
   ]
  },
  {
   "cell_type": "code",
   "execution_count": 34,
   "metadata": {},
   "outputs": [],
   "source": [
    "model = VGG16()\n",
    "input = torch.randn(1, 3, 224, 224)"
   ]
  }
 ],
 "metadata": {
  "kernelspec": {
   "display_name": "ml",
   "language": "python",
   "name": "python3"
  },
  "language_info": {
   "codemirror_mode": {
    "name": "ipython",
    "version": 3
   },
   "file_extension": ".py",
   "mimetype": "text/x-python",
   "name": "python",
   "nbconvert_exporter": "python",
   "pygments_lexer": "ipython3",
   "version": "3.8.18"
  }
 },
 "nbformat": 4,
 "nbformat_minor": 2
}
